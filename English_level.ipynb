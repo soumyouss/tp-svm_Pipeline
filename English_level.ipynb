{
 "cells": [
  {
   "cell_type": "markdown",
   "metadata": {},
   "source": [
    "### SOUMAHORO Youssouf\n",
    "\n",
    "### Enseignant: Gilles GASSO\n",
    "\n",
    "\n",
    "\n",
    "\n",
    "\n",
    "\n",
    "\n",
    "\n",
    "# TP: Predict English level\n",
    "    The goal is to predict English level of applicants based on their written texts. Three English\n",
    "    levels are in play, namely : B2, B1 ou C2 (knowing that C2 > B1 > B2). From each raw text\n",
    "    56 features are extracted. These features are for instance the number of words, the number of\n",
    "    sentences, lexical and syntactic indexes. From these features we aim to predict the label y ∈\n",
    "    {C2, B1, B2} related to the text."
   ]
  },
  {
   "cell_type": "code",
   "execution_count": 1,
   "metadata": {},
   "outputs": [],
   "source": [
    "from sklearn.model_selection import train_test_split, GridSearchCV\n",
    "from sklearn.metrics import confusion_matrix, accuracy_score\n",
    "from sklearn.svm import SVC\n",
    "from sklearn import preprocessing\n",
    "from sklearn.pipeline import Pipeline\n",
    "from sklearn.utils.multiclass import unique_labels\n",
    "import pandas as pd\n",
    "import matplotlib.pyplot as plt\n",
    "import seaborn as sns\n",
    "import numpy as np\n",
    "\n",
    "%matplotlib inline"
   ]
  },
  {
   "cell_type": "markdown",
   "metadata": {},
   "source": [
    "### 1. Load the training set."
   ]
  },
  {
   "cell_type": "code",
   "execution_count": 2,
   "metadata": {},
   "outputs": [
    {
     "data": {
      "text/html": [
       "<div>\n",
       "<style>\n",
       "    .dataframe thead tr:only-child th {\n",
       "        text-align: right;\n",
       "    }\n",
       "\n",
       "    .dataframe thead th {\n",
       "        text-align: left;\n",
       "    }\n",
       "\n",
       "    .dataframe tbody tr th {\n",
       "        vertical-align: top;\n",
       "    }\n",
       "</style>\n",
       "<table border=\"1\" class=\"dataframe\">\n",
       "  <thead>\n",
       "    <tr style=\"text-align: right;\">\n",
       "      <th></th>\n",
       "      <th>sentences</th>\n",
       "      <th>words</th>\n",
       "      <th>letters.all</th>\n",
       "      <th>syllables</th>\n",
       "      <th>punct</th>\n",
       "      <th>avg.sentc.length</th>\n",
       "      <th>avg.word.length</th>\n",
       "      <th>avg.syll.word</th>\n",
       "      <th>sntc.per.word</th>\n",
       "      <th>TTR</th>\n",
       "      <th>...</th>\n",
       "      <th>Herdan's C</th>\n",
       "      <th>Maas a</th>\n",
       "      <th>Maas lgV0</th>\n",
       "      <th>MTLD</th>\n",
       "      <th>Root TTR</th>\n",
       "      <th>Summer</th>\n",
       "      <th>TTR.1</th>\n",
       "      <th>Uber index</th>\n",
       "      <th>Yule's K</th>\n",
       "      <th>level1</th>\n",
       "    </tr>\n",
       "  </thead>\n",
       "  <tbody>\n",
       "    <tr>\n",
       "      <th>0</th>\n",
       "      <td>10</td>\n",
       "      <td>170</td>\n",
       "      <td>817</td>\n",
       "      <td>268</td>\n",
       "      <td>23</td>\n",
       "      <td>17.000000</td>\n",
       "      <td>4.805882</td>\n",
       "      <td>1.576471</td>\n",
       "      <td>0.058824</td>\n",
       "      <td>0.623529</td>\n",
       "      <td>...</td>\n",
       "      <td>0.91</td>\n",
       "      <td>0.20</td>\n",
       "      <td>4.83</td>\n",
       "      <td>97.21</td>\n",
       "      <td>8.13</td>\n",
       "      <td>0.88</td>\n",
       "      <td>0.62</td>\n",
       "      <td>24.25</td>\n",
       "      <td>136.33</td>\n",
       "      <td>B2</td>\n",
       "    </tr>\n",
       "    <tr>\n",
       "      <th>1</th>\n",
       "      <td>9</td>\n",
       "      <td>85</td>\n",
       "      <td>311</td>\n",
       "      <td>104</td>\n",
       "      <td>25</td>\n",
       "      <td>9.444444</td>\n",
       "      <td>3.658824</td>\n",
       "      <td>1.223529</td>\n",
       "      <td>0.105882</td>\n",
       "      <td>0.588235</td>\n",
       "      <td>...</td>\n",
       "      <td>0.88</td>\n",
       "      <td>0.25</td>\n",
       "      <td>3.58</td>\n",
       "      <td>30.27</td>\n",
       "      <td>5.42</td>\n",
       "      <td>0.81</td>\n",
       "      <td>0.59</td>\n",
       "      <td>16.15</td>\n",
       "      <td>246.37</td>\n",
       "      <td>B1</td>\n",
       "    </tr>\n",
       "    <tr>\n",
       "      <th>2</th>\n",
       "      <td>8</td>\n",
       "      <td>50</td>\n",
       "      <td>214</td>\n",
       "      <td>66</td>\n",
       "      <td>14</td>\n",
       "      <td>6.250000</td>\n",
       "      <td>4.280000</td>\n",
       "      <td>1.320000</td>\n",
       "      <td>0.160000</td>\n",
       "      <td>0.740000</td>\n",
       "      <td>...</td>\n",
       "      <td>0.92</td>\n",
       "      <td>0.21</td>\n",
       "      <td>4.08</td>\n",
       "      <td>53.85</td>\n",
       "      <td>5.23</td>\n",
       "      <td>0.85</td>\n",
       "      <td>0.74</td>\n",
       "      <td>22.07</td>\n",
       "      <td>232.00</td>\n",
       "      <td>B1</td>\n",
       "    </tr>\n",
       "    <tr>\n",
       "      <th>3</th>\n",
       "      <td>18</td>\n",
       "      <td>237</td>\n",
       "      <td>999</td>\n",
       "      <td>319</td>\n",
       "      <td>32</td>\n",
       "      <td>13.166667</td>\n",
       "      <td>4.215190</td>\n",
       "      <td>1.345992</td>\n",
       "      <td>0.075949</td>\n",
       "      <td>0.578059</td>\n",
       "      <td>...</td>\n",
       "      <td>0.90</td>\n",
       "      <td>0.21</td>\n",
       "      <td>4.90</td>\n",
       "      <td>80.02</td>\n",
       "      <td>8.90</td>\n",
       "      <td>0.88</td>\n",
       "      <td>0.58</td>\n",
       "      <td>23.69</td>\n",
       "      <td>121.78</td>\n",
       "      <td>B2</td>\n",
       "    </tr>\n",
       "    <tr>\n",
       "      <th>4</th>\n",
       "      <td>9</td>\n",
       "      <td>105</td>\n",
       "      <td>423</td>\n",
       "      <td>147</td>\n",
       "      <td>13</td>\n",
       "      <td>11.666667</td>\n",
       "      <td>4.028571</td>\n",
       "      <td>1.400000</td>\n",
       "      <td>0.085714</td>\n",
       "      <td>0.638095</td>\n",
       "      <td>...</td>\n",
       "      <td>0.90</td>\n",
       "      <td>0.22</td>\n",
       "      <td>4.26</td>\n",
       "      <td>56.86</td>\n",
       "      <td>6.54</td>\n",
       "      <td>0.86</td>\n",
       "      <td>0.64</td>\n",
       "      <td>20.94</td>\n",
       "      <td>175.96</td>\n",
       "      <td>B1</td>\n",
       "    </tr>\n",
       "  </tbody>\n",
       "</table>\n",
       "<p>5 rows × 56 columns</p>\n",
       "</div>"
      ],
      "text/plain": [
       "   sentences  words  letters.all  syllables  punct  avg.sentc.length  \\\n",
       "0         10    170          817        268     23         17.000000   \n",
       "1          9     85          311        104     25          9.444444   \n",
       "2          8     50          214         66     14          6.250000   \n",
       "3         18    237          999        319     32         13.166667   \n",
       "4          9    105          423        147     13         11.666667   \n",
       "\n",
       "   avg.word.length  avg.syll.word  sntc.per.word       TTR   ...    \\\n",
       "0         4.805882       1.576471       0.058824  0.623529   ...     \n",
       "1         3.658824       1.223529       0.105882  0.588235   ...     \n",
       "2         4.280000       1.320000       0.160000  0.740000   ...     \n",
       "3         4.215190       1.345992       0.075949  0.578059   ...     \n",
       "4         4.028571       1.400000       0.085714  0.638095   ...     \n",
       "\n",
       "   Herdan's C  Maas a  Maas lgV0   MTLD  Root TTR  Summer  TTR.1  Uber index  \\\n",
       "0        0.91    0.20       4.83  97.21      8.13    0.88   0.62       24.25   \n",
       "1        0.88    0.25       3.58  30.27      5.42    0.81   0.59       16.15   \n",
       "2        0.92    0.21       4.08  53.85      5.23    0.85   0.74       22.07   \n",
       "3        0.90    0.21       4.90  80.02      8.90    0.88   0.58       23.69   \n",
       "4        0.90    0.22       4.26  56.86      6.54    0.86   0.64       20.94   \n",
       "\n",
       "   Yule's K  level1  \n",
       "0    136.33      B2  \n",
       "1    246.37      B1  \n",
       "2    232.00      B1  \n",
       "3    121.78      B2  \n",
       "4    175.96      B1  \n",
       "\n",
       "[5 rows x 56 columns]"
      ]
     },
     "execution_count": 2,
     "metadata": {},
     "output_type": "execute_result"
    }
   ],
   "source": [
    "train = pd.read_csv(\"englevel_train.csv\", index_col=None, sep= \",\")\n",
    "Ytrain = train[\"level1\"].values\n",
    "Xtrain = train.drop(\"level1\", axis=1).values\n",
    "train.head()"
   ]
  },
  {
   "cell_type": "code",
   "execution_count": 3,
   "metadata": {},
   "outputs": [],
   "source": [
    "test = pd.read_csv(\"englevel_test.csv\", index_col=None, sep= \",\")\n",
    "Ytest = test[\"level1\"].values\n",
    "Xtest = test.drop(\"level1\", axis=1).values"
   ]
  },
  {
   "cell_type": "markdown",
   "metadata": {},
   "source": [
    "### 2. We want first to learn a linear SVM by following the procedure described below.\n",
    "\n",
    "   x −→ [normalizing x : x ← (x − x̄)/σ ]−→ [Model f (x) = w > x + b ]−→ Predict ŷ\n",
    "    "
   ]
  },
  {
   "cell_type": "markdown",
   "metadata": {},
   "source": [
    "### Explain each step of the pipeline building and its configuration. What is (are) the hyper-parameter(s) of the model defined by the pipeline ?\n",
    "   \n",
    "       Pour faire un SVM nous avons besoin de normaliser les données et ensuite construire notre modèle\n",
    "       SVM sur ces données normalisées. Pipline nous permet de combiner ces deux étapes en une seule,\n",
    "       Pipline transforme nos données à notre guise et ensuite nous donne un estimateur final. Avec \n",
    "       Pipline on peut construire plusieurs modèles à la fois avec de différentes transformations.\n",
    "       Le Pipeline est construit en utilisant une liste de paires, contenant le nom que nous  voulons\n",
    "       donner à chaque étape et un objet estimateur:(key, value)\n",
    "       Ici, nous appliqquons une normalisation sur les données avant d'ajuster le modèle donc nous            devons spécifier le **normaliseur** et le **classifieur**\n",
    "       \n",
    "        Comme nous voulons faire du SVM linéaire, nous avons seulement besoin du paramètre de  \n",
    "        régularisation C"
   ]
  },
  {
   "cell_type": "markdown",
   "metadata": {},
   "source": [
    "### 3. The pipeline being built, the hyper-parameters are optimized using a grid search as in the previous exercise.\n",
    "\n",
    "\n",
    "     Nous allons écrire une fonction qui fera le **pipeline** et le **GridSearch** "
   ]
  },
  {
   "cell_type": "code",
   "execution_count": 103,
   "metadata": {},
   "outputs": [],
   "source": [
    "def pipeline_gridsearch(X,y,steps,grid_param,X_test=None,scoring=\"accuracy\",cv=2):\n",
    "    \"\"\"\n",
    "    construire un modèle avec pipeline et gridSearch\n",
    "    \n",
    "    paramètres:\n",
    "    -----------------\n",
    "    X: les données d'apprentissage\n",
    "    y: le target\n",
    "    steps: les étapes du pipeline\n",
    "    grid_param: le dico des paramètres du gridSearch\n",
    "    scoring: metric de performance du gridSearch\n",
    "    cv: pour le k-fold\n",
    "    X_test: les données test si l'on souhaite prédire sur l'ensemble test.\n",
    "            par defaut None. \n",
    "    \n",
    "    returns\n",
    "    --------------\n",
    "    La fonction retourne: le best score lors de l'apprentissage-validation\n",
    "                         best estimator et les best parameters\n",
    "                         retourne aussi la prediction si l'ensemble est précisé en entrée\n",
    "    \"\"\"\n",
    "    \n",
    "    Xtrain, Xval, Ytrain, Yval = train_test_split(X, y , shuffle=True, test_size=1/2,\n",
    "                                                  stratify=y)\n",
    "    \n",
    "    # le pipeline\n",
    "    pipeline = Pipeline(steps=steps)\n",
    "    pipeline.fit(Xtrain,Ytrain)\n",
    "    \n",
    "    # gridSearch\n",
    "    grid = GridSearchCV(pipeline, param_grid=grid_param, cv=cv,scoring=scoring, n_jobs=3)\n",
    "    grid.fit(Xtrain,Ytrain)\n",
    "    \n",
    "    predictions = grid.predict(X_test)\n",
    "    \n",
    "    #result\n",
    "    best_score = grid.score(Xval,Yval)\n",
    "    \n",
    "    best_estimator = grid.best_estimator_\n",
    "    \n",
    "    best_param = grid.best_params_\n",
    "    \n",
    "    dic_results = {'best_score':best_score, 'best_estimator':best_estimator, \n",
    "                   'best_param':best_param, 'predictions':predictions}\n",
    "    \n",
    "    return dic_results"
   ]
  },
  {
   "cell_type": "markdown",
   "metadata": {},
   "source": [
    "Nous allons maintenant construire notre modèle en utilisant cette fonction. POur cela nous avons besoin de définir les différents paramètres de la fonction."
   ]
  },
  {
   "cell_type": "code",
   "execution_count": 36,
   "metadata": {},
   "outputs": [],
   "source": [
    "# le classifieur SVM linear\n",
    "classifieur_svm_lin = SVC(kernel = \"linear\")\n",
    "\n",
    "# les étapes du pipeline\n",
    "steps=[(\"normalisation\", normaliseur), (\"svm\",classifieur_svm_lin)]\n",
    "\n",
    "#grille pour C (paramètre de régularisatio)\n",
    "vecteur_C = np.logspace(-3, 3, 10)\n",
    "parametres = {\"svm__C\":vecteur_C}\n",
    "\n",
    "# le pipeline et le gridSearch\n",
    "res = pipeline_gridsearch(Xtrain,Ytrain,steps,parametres,cv=5)"
   ]
  },
  {
   "cell_type": "code",
   "execution_count": 45,
   "metadata": {},
   "outputs": [
    {
     "name": "stdout",
     "output_type": "stream",
     "text": [
      "Optimal C:  0.8315674095725246\n"
     ]
    }
   ],
   "source": [
    "print(\"Optimal C: \",res['best_score'])"
   ]
  },
  {
   "cell_type": "markdown",
   "metadata": {},
   "source": [
    "(a) Plot the validation curve of the learned linear SVM."
   ]
  },
  {
   "cell_type": "code",
   "execution_count": 55,
   "metadata": {},
   "outputs": [],
   "source": [
    "def plot_curve(Xtrain,Ytrain,clf,vectC):\n",
    "    \"\"\"\n",
    "    Plot the validation curve of the learned\n",
    "    \n",
    "    parameters\n",
    "    ---------------\n",
    "       Xtrain: le jeu d'apprentissage\n",
    "       Ytrain: le target\n",
    "       clf: le classifieur\n",
    "       vectC: grille de vecteur pour C\n",
    "    \"\"\"\n",
    "    \n",
    "    \n",
    "    \n",
    "    Xtrain, Xval, Ytrain, Yval = train_test_split(Xtrain, Ytrain, shuffle=True,\n",
    "                                                  test_size=1/2, stratify=Ytrain)\n",
    "    # Select C by cross-validation\n",
    "    err_val = np.empty(vectC.shape[0])\n",
    "    err_train = np.empty(vectC.shape[0])\n",
    "    \n",
    "    for ind_C, C in enumerate(vectC):\n",
    "        clf_svm.C = C\n",
    "        clf_svm.fit(Xtrain, Ytrain)\n",
    "          # classification error rates\n",
    "        err_val[ind_C] = 1 - accuracy_score(Yval, clf_svm.predict(Xval))\n",
    "        err_train[ind_C] = 1 - accuracy_score(Ytrain, clf_svm.predict(Xtrain))\n",
    "    err_min_val, ind_min = err_val.min(), err_val.argmin()\n",
    "    Copt = vectC[ind_min]\n",
    "    print(\"\\n Optimal C = {}\".format(Copt))\n",
    "    # Error curves\n",
    "    plt.figure()\n",
    "    plt.semilogx(vectC, err_train, color=\"blue\", linestyle=\"--\", marker=\"s\",markersize=5, label=\"Training\")\n",
    "    plt.semilogx(vectC, err_val, color=\"green\", linestyle=\"--\", marker=\"s\",markersize=5, label=\"Validation\")\n",
    "    plt.xlabel(\"Parameter C\")\n",
    "    plt.ylabel(\"Classification error curves\")\n",
    "    plt.legend(loc=\"best\")\n",
    "    plt.show()\n",
    "    \n",
    "    \n",
    "    "
   ]
  },
  {
   "cell_type": "code",
   "execution_count": 57,
   "metadata": {},
   "outputs": [
    {
     "name": "stdout",
     "output_type": "stream",
     "text": [
      "\n",
      " Optimal C = 0.001\n"
     ]
    },
    {
     "data": {
      "image/png": "[encoded data removed]",
      "text/plain": [
       "<matplotlib.figure.Figure at 0x7f3bd1e9c048>"
      ]
     },
     "metadata": {},
     "output_type": "display_data"
    }
   ],
   "source": [
    "clf_svm_ln = SVC(kernel = \"linear\")\n",
    "vectC = np.logspace(-3, 3, 10)\n",
    "\n",
    "plot_curve(Xtrain,Ytrain,clf_svm_ln,vectC)"
   ]
  },
  {
   "cell_type": "markdown",
   "metadata": {},
   "source": [
    "#### (b) Evaluate the performance of the model on the test set (you shall compute the accuracyand show the confusion matrix). Comment on the results\n",
    "\n",
    "     Pour évaluer les performances de notre modèle, nous allons appeler notre fonction \n",
    "     pipeline_gridsearch et spécifier le paramètre X_test pour avoir les prédictions.\n",
    "     \n",
    "     Nous allons écrire une fonction qui renverra la matrice de confusion et l'accuracy"
   ]
  },
  {
   "cell_type": "code",
   "execution_count": 99,
   "metadata": {},
   "outputs": [],
   "source": [
    "def plot_confusion_matrix(y_pred,y_true,title='Confusion matrix',cmap=None,normalize=True):\n",
    "    \n",
    "    import matplotlib.pyplot as plt\n",
    "    import numpy as np\n",
    "    import itertools\n",
    "    from sklearn.metrics import confusion_matrix, accuracy_score\n",
    "    \n",
    "    acc = accuracy_score(y_true, y_pred)\n",
    "    misclass = 1 - acc\n",
    "    cm = confusion_matrix(y_pred , y_true)\n",
    "    target_names = list(unique_labels(y_pred, y_pred))\n",
    "    print(\"Model accuracy: %.2f%%\" % (acc * 100))\n",
    "    \n",
    "    if cmap is None:\n",
    "        cmap = plt.get_cmap('Blues')\n",
    "\n",
    "    plt.figure(figsize=(8, 6))\n",
    "    plt.imshow(cm, interpolation='nearest', cmap=cmap)\n",
    "    plt.title(title)\n",
    "    plt.colorbar()\n",
    "\n",
    "    if target_names is not None:\n",
    "        tick_marks = np.arange(len(target_names))\n",
    "        plt.xticks(tick_marks, target_names, rotation=45)\n",
    "        plt.yticks(tick_marks, target_names)\n",
    "\n",
    "    if normalize:\n",
    "        cm = cm.astype('float') / cm.sum(axis=1)[:, np.newaxis]\n",
    "\n",
    "\n",
    "    thresh = cm.max() / 1.5 if normalize else cm.max() / 2\n",
    "    for i, j in itertools.product(range(cm.shape[0]), range(cm.shape[1])):\n",
    "        if normalize:\n",
    "            plt.text(j, i, \"{:0.4f}\".format(cm[i, j]),\n",
    "                     horizontalalignment=\"center\",\n",
    "                     color=\"white\" if cm[i, j] > thresh else \"black\")\n",
    "        else:\n",
    "            plt.text(j, i, \"{:,}\".format(cm[i, j]),\n",
    "                     horizontalalignment=\"center\",\n",
    "                     color=\"white\" if cm[i, j] > thresh else \"black\")\n",
    "\n",
    "\n",
    "    plt.tight_layout()\n",
    "    plt.ylabel('True label')\n",
    "    plt.xlabel('Predicted label\\naccuracy={:0.4f}; misclass={:0.4f}'.format(acc, misclass))\n",
    "    plt.show()\n",
    "    "
   ]
  },
  {
   "cell_type": "code",
   "execution_count": 114,
   "metadata": {},
   "outputs": [
    {
     "name": "stdout",
     "output_type": "stream",
     "text": [
      "Model accuracy: 79.28%\n"
     ]
    },
    {
     "data": {
      "image/png": "[encoded data removed]",
      "text/plain": [
       "<matplotlib.figure.Figure at 0x7f3bd1b3bba8>"
      ]
     },
     "metadata": {},
     "output_type": "display_data"
    }
   ],
   "source": [
    "# predicted value using our fonction\n",
    "ypred_ln = pipeline_gridsearch(Xtrain,Ytrain,steps=steps,grid_param=parametres,\n",
    "                             X_test=Xtest)[\"predictions\"]\n",
    "# confusion matrix\n",
    "plot_confusion_matrix(ypred_ln,Ytest)"
   ]
  },
  {
   "cell_type": "markdown",
   "metadata": {},
   "source": [
    "#### 4. Now we want to learn a non-linear SVM. The kernel is left at your choice. Build and train a pipeline to select your best kernel SVM. Compare its performances to the linear SVM."
   ]
  },
  {
   "cell_type": "code",
   "execution_count": 113,
   "metadata": {},
   "outputs": [
    {
     "name": "stderr",
     "output_type": "stream",
     "text": [
      "/home/soum/anaconda3/lib/python3.6/site-packages/sklearn/model_selection/_search.py:761: DeprecationWarning: The grid_scores_ attribute was deprecated in version 0.18 in favor of the more elaborate cv_results_ attribute. The grid_scores_ attribute will not be available from 0.20\n",
      "  DeprecationWarning)\n"
     ]
    },
    {
     "data": {
      "image/png": "[encoded data removed]",
      "text/plain": [
       "<matplotlib.figure.Figure at 0x7f3bd1c7df28>"
      ]
     },
     "metadata": {},
     "output_type": "display_data"
    }
   ],
   "source": [
    "grid = GridSearchCV(SVC(), param_grid=param_grid, cv=3)\n",
    "\n",
    "grid.fit(Xtrain, Ytrain)\n",
    "\n",
    "#print(\"The best classifier is: \", grid.best_estimator_)\n",
    "\n",
    "# plot the scores of the grid\n",
    "# grid_scores_ contains parameter settings and scores\n",
    "score_dict = grid.grid_scores_\n",
    "\n",
    "# We extract just the scores\n",
    "scores = [x[1] for x in score_dict]\n",
    "scores = np.array(scores).reshape(len(C_range), len(gamma_range))\n",
    "\n",
    "# Make a nice figure\n",
    "plt.figure(figsize=(8, 6))\n",
    "plt.subplots_adjust(left=0.15, right=0.95, bottom=0.15, top=0.95)\n",
    "plt.imshow(scores, interpolation='nearest', cmap=plt.cm.spectral)\n",
    "plt.xlabel('gamma')\n",
    "plt.ylabel('C')\n",
    "plt.colorbar()\n",
    "plt.xticks(np.arange(len(gamma_range)), gamma_range, rotation=45)\n",
    "plt.yticks(np.arange(len(C_range)), C_range)\n",
    "plt.show()"
   ]
  },
  {
   "cell_type": "markdown",
   "metadata": {},
   "source": [
    "Nous voyons à travers ce que le valeur optimale du couple (C,gamma) est 1.0, 1e-05"
   ]
  },
  {
   "cell_type": "code",
   "execution_count": 115,
   "metadata": {},
   "outputs": [
    {
     "name": "stdout",
     "output_type": "stream",
     "text": [
      "svm_krl accuracy: 84.47%\n",
      "svm_ln accuracy: 79.28%\n"
     ]
    }
   ],
   "source": [
    "ypred_krnl = grid.predict(Xtest)\n",
    "acckrl = accuracy_score(ypred_krnl,Ytest)\n",
    "accln = accuracy_score(ypred_ln,Ytest)\n",
    "print(\"svm_krl accuracy: %.2f%%\" % (acckrl * 100))\n",
    "print(\"svm_ln accuracy: %.2f%%\" % (accln * 100))"
   ]
  },
  {
   "cell_type": "markdown",
   "metadata": {},
   "source": [
    "le svm non-linéaire discrimine mieux que le svm linéaire"
   ]
  },
  {
   "cell_type": "markdown",
   "metadata": {},
   "source": [
    "#### 5.Is the classification problem well balanced ? If not, is the accuracy the best performance measure to select the optimal model ? If not, which solution can you propose ? Justify your answer."
   ]
  },
  {
   "cell_type": "code",
   "execution_count": 6,
   "metadata": {},
   "outputs": [
    {
     "data": {
      "text/plain": [
       "<matplotlib.axes._subplots.AxesSubplot at 0x7fd568723ef0>"
      ]
     },
     "execution_count": 6,
     "metadata": {},
     "output_type": "execute_result"
    },
    {
     "data": {
      "image/png": "[encoded data removed]",
      "text/plain": [
       "<matplotlib.figure.Figure at 0x7fd569212f98>"
      ]
     },
     "metadata": {},
     "output_type": "display_data"
    }
   ],
   "source": [
    "x = train['level1']\n",
    "sns.countplot(x=x, data=train)"
   ]
  },
  {
   "cell_type": "markdown",
   "metadata": {},
   "source": [
    "La répartition des classes n'est uniforme. Le niveau C1 par exemple est beaucoup moins représenté donc dans ce cas l'**accuracy** n'est approprié comme mesure de performance. IL faut plutot regarder l' **AUC** ou le **f1-score** "
   ]
  }
 ],
 "metadata": {
  "kernelspec": {
   "display_name": "Python 3",
   "language": "python",
   "name": "python3"
  },
  "language_info": {
   "codemirror_mode": {
    "name": "ipython",
    "version": 3
   },
   "file_extension": ".py",
   "mimetype": "text/x-python",
   "name": "python",
   "nbconvert_exporter": "python",
   "pygments_lexer": "ipython3",
   "version": "3.6.3"
  }
 },
 "nbformat": 4,
 "nbformat_minor": 2
}
